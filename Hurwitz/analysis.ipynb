{
 "nbformat": 4,
 "nbformat_minor": 2,
 "metadata": {
  "language_info": {
   "name": "python",
   "codemirror_mode": {
    "name": "ipython",
    "version": 3
   },
   "version": "3.6.3"
  },
  "orig_nbformat": 2,
  "file_extension": ".py",
  "mimetype": "text/x-python",
  "name": "python",
  "npconvert_exporter": "python",
  "pygments_lexer": "ipython3",
  "version": 3
 },
 "cells": [
  {
   "source": [
    "df[1].mean()/df[0].mean()"
   ],
   "cell_type": "code",
   "outputs": [
    {
     "output_type": "execute_result",
     "data": {
      "text/plain": "52.268718319694159"
     },
     "metadata": {},
     "execution_count": 39
    }
   ],
   "metadata": {},
   "execution_count": 39
  },
  {
   "source": [],
   "cell_type": "code",
   "outputs": [
    {
     "output_type": "execute_result",
     "data": {
      "text/plain": "0.010507480755298832"
     },
     "metadata": {},
     "execution_count": 32
    }
   ],
   "metadata": {},
   "execution_count": 32
  },
  {
   "source": [
    "df[0].mean()"
   ],
   "cell_type": "code",
   "outputs": [
    {
     "output_type": "execute_result",
     "data": {
      "text/plain": "0.00188644941862639"
     },
     "metadata": {},
     "execution_count": 23
    }
   ],
   "metadata": {},
   "execution_count": 23
  },
  {
   "source": [
    "0.27699464499348342/0.0044293524038912071"
   ],
   "cell_type": "code",
   "outputs": [
    {
     "output_type": "execute_result",
     "data": {
      "text/plain": "62.5361496976719"
     },
     "metadata": {},
     "execution_count": 28
    }
   ],
   "metadata": {},
   "execution_count": 28
  },
  {
   "source": [
    "df[1].mean()"
   ],
   "cell_type": "code",
   "outputs": [
    {
     "output_type": "execute_result",
     "data": {
      "text/plain": "0.078839682721280238"
     },
     "metadata": {},
     "execution_count": 24
    }
   ],
   "metadata": {},
   "execution_count": 24
  },
  {
   "source": [
    "0.078839682721280238/0.00188644941862639"
   ],
   "cell_type": "code",
   "outputs": [
    {
     "output_type": "execute_result",
     "data": {
      "text/plain": "41.79263008211851"
     },
     "metadata": {},
     "execution_count": 29
    }
   ],
   "metadata": {},
   "execution_count": 29
  },
  {
   "cell_type": "code",
   "execution_count": null,
   "metadata": {},
   "outputs": [],
   "source": [
    "\"\"\"\n",
    "300:62.5361496976719\n",
    "250:52.268718319694159\n",
    "200:41.79263008211851\n",
    "150:27.874344151376199\n",
    "100:8.3525384558825397\n",
    "\"\"\""
   ]
  },
  {
   "source": [
    "import numpy as np\n",
    "A=np.array([[300,62.5361496976719],\n",
    "[250,52.268718319694159],\n",
    "[200,41.79263008211851],\n",
    "[150,27.874344151376199],\n",
    "[100,8.3525384558825397]])"
   ],
   "cell_type": "code",
   "outputs": [],
   "metadata": {},
   "execution_count": 44
  },
  {
   "source": [
    "plt.scatter(*A.T)\n",
    "plt.show()"
   ],
   "cell_type": "code",
   "outputs": [
    {
     "output_type": "display_data",
     "data": {
      "text/plain": "<matplotlib.figure.Figure at 0x22060fe82e8>",
      "image/svg+xml": "<?xml version=\"1.0\" encoding=\"utf-8\" standalone=\"no\"?>\r\n<!DOCTYPE svg PUBLIC \"-//W3C//DTD SVG 1.1//EN\"\r\n  \"http://www.w3.org/Graphics/SVG/1.1/DTD/svg11.dtd\">\r\n<!-- Created with matplotlib (http://matplotlib.org/) -->\r\n<svg height=\"251pt\" version=\"1.1\" viewBox=\"0 0 372 251\" width=\"372pt\" xmlns=\"http://www.w3.org/2000/svg\" xmlns:xlink=\"http://www.w3.org/1999/xlink\">\r\n <defs>\r\n  <style type=\"text/css\">\r\n*{stroke-linecap:butt;stroke-linejoin:round;}\r\n  </style>\r\n </defs>\r\n <g id=\"figure_1\">\r\n  <g id=\"patch_1\">\r\n   <path d=\"M 0 251.730625 \r\nL 372.296875 251.730625 \r\nL 372.296875 0 \r\nL 0 0 \r\nz\r\n\" style=\"fill:none;\"/>\r\n  </g>\r\n  <g id=\"axes_1\">\r\n   <g id=\"patch_2\">\r\n    <path d=\"M 26.796875 228.14 \r\nL 361.596875 228.14 \r\nL 361.596875 10.7 \r\nL 26.796875 10.7 \r\nz\r\n\" style=\"fill:#ffffff;\"/>\r\n   </g>\r\n   <g id=\"PathCollection_1\">\r\n    <defs>\r\n     <path d=\"M 0 3 \r\nC 0.795609 3 1.55874 2.683901 2.12132 2.12132 \r\nC 2.683901 1.55874 3 0.795609 3 0 \r\nC 3 -0.795609 2.683901 -1.55874 2.12132 -2.12132 \r\nC 1.55874 -2.683901 0.795609 -3 0 -3 \r\nC -0.795609 -3 -1.55874 -2.683901 -2.12132 -2.12132 \r\nC -2.683901 -1.55874 -3 -0.795609 -3 0 \r\nC -3 0.795609 -2.683901 1.55874 -2.12132 2.12132 \r\nC -1.55874 2.683901 -0.795609 3 0 3 \r\nz\r\n\" id=\"m521cb05627\" style=\"stroke:#1f77b4;\"/>\r\n    </defs>\r\n    <g clip-path=\"url(#pcdb4ed3f23)\">\r\n     <use style=\"fill:#1f77b4;stroke:#1f77b4;\" x=\"346.365058\" xlink:href=\"#m521cb05627\" y=\"20.633945\"/>\r\n     <use style=\"fill:#1f77b4;stroke:#1f77b4;\" x=\"270.280967\" xlink:href=\"#m521cb05627\" y=\"58.072536\"/>\r\n     <use style=\"fill:#1f77b4;stroke:#1f77b4;\" x=\"194.196875\" xlink:href=\"#m521cb05627\" y=\"96.271962\"/>\r\n     <use style=\"fill:#1f77b4;stroke:#1f77b4;\" x=\"118.112783\" xlink:href=\"#m521cb05627\" y=\"147.022827\"/>\r\n     <use style=\"fill:#1f77b4;stroke:#1f77b4;\" x=\"42.028692\" xlink:href=\"#m521cb05627\" y=\"218.206055\"/>\r\n    </g>\r\n   </g>\r\n   <g id=\"matplotlib.axis_1\">\r\n    <g id=\"xtick_1\">\r\n     <g id=\"line2d_1\">\r\n      <defs>\r\n       <path d=\"M 0 0 \r\nL 0 3.5 \r\n\" id=\"mf94a28655e\" style=\"stroke:#000000;stroke-width:0.8;\"/>\r\n      </defs>\r\n      <g>\r\n       <use style=\"stroke:#000000;stroke-width:0.8;\" x=\"42.028692\" xlink:href=\"#mf94a28655e\" y=\"228.14\"/>\r\n      </g>\r\n     </g>\r\n     <g id=\"text_1\">\r\n      <!-- 100 -->\r\n      <defs>\r\n       <path d=\"M 38.484375 0.984375 \r\nL 29.6875 0.984375 \r\nL 29.6875 64.109375 \r\nQ 21.4375 61.28125 12.3125 59.328125 \r\nL 10.6875 66.109375 \r\nQ 23.734375 69.390625 32.90625 73.921875 \r\nL 38.484375 73.921875 \r\nz\r\n\" id=\"IPAexGothic-31\"/>\r\n       <path d=\"M 31.84375 73.828125 \r\nQ 45.015625 73.828125 52.09375 61.625 \r\nQ 57.71875 51.953125 57.71875 36.625 \r\nQ 57.71875 21.4375 52.09375 11.578125 \r\nQ 45.125 -0.484375 31.5 -0.484375 \r\nQ 17.921875 -0.484375 10.9375 11.578125 \r\nQ 5.328125 21.4375 5.328125 36.71875 \r\nQ 5.328125 58.015625 15.625 67.71875 \r\nQ 22.171875 73.828125 31.84375 73.828125 \r\nz\r\nM 31.5 66.65625 \r\nQ 23.6875 66.65625 19.1875 58.734375 \r\nQ 14.59375 50.734375 14.59375 36.625 \r\nQ 14.59375 22.75 19.09375 14.796875 \r\nQ 23.640625 6.984375 31.5 6.984375 \r\nQ 40.921875 6.984375 45.453125 18.015625 \r\nQ 48.4375 25.34375 48.4375 37.109375 \r\nQ 48.4375 50.875 43.84375 58.734375 \r\nQ 39.203125 66.65625 31.5 66.65625 \r\nz\r\n\" id=\"IPAexGothic-30\"/>\r\n      </defs>\r\n      <g transform=\"translate(32.581036 242.630625)scale(0.1 -0.1)\">\r\n       <use xlink:href=\"#IPAexGothic-31\"/>\r\n       <use x=\"62.988281\" xlink:href=\"#IPAexGothic-30\"/>\r\n       <use x=\"125.976562\" xlink:href=\"#IPAexGothic-30\"/>\r\n      </g>\r\n     </g>\r\n    </g>\r\n    <g id=\"xtick_2\">\r\n     <g id=\"line2d_2\">\r\n      <g>\r\n       <use style=\"stroke:#000000;stroke-width:0.8;\" x=\"80.070738\" xlink:href=\"#mf94a28655e\" y=\"228.14\"/>\r\n      </g>\r\n     </g>\r\n     <g id=\"text_2\">\r\n      <!-- 125 -->\r\n      <defs>\r\n       <path d=\"M 57.171875 0.984375 \r\nL 6.984375 0.984375 \r\nL 6.984375 9.28125 \r\nQ 12.890625 23.046875 29.59375 34.421875 \r\nL 32.375 36.28125 \r\nQ 40.921875 42.140625 43.609375 45.40625 \r\nQ 46.6875 49.265625 46.6875 53.8125 \r\nQ 46.6875 58.9375 43.0625 62.546875 \r\nQ 39.0625 66.546875 32.5625 66.546875 \r\nQ 19.53125 66.546875 15.484375 52 \r\nL 7.765625 54.78125 \r\nQ 13.328125 73.828125 33.0625 73.828125 \r\nQ 43.84375 73.828125 50.25 67.4375 \r\nQ 55.859375 61.671875 55.859375 53.515625 \r\nQ 55.859375 47.46875 52.25 42.53125 \r\nQ 48.921875 37.75 36.96875 30.28125 \r\nL 34.859375 29 \r\nQ 19.625 19.578125 15.28125 8.890625 \r\nL 57.171875 8.890625 \r\nz\r\n\" id=\"IPAexGothic-32\"/>\r\n       <path d=\"M 18.40625 40.671875 \r\nQ 25.53125 46.296875 33.9375 46.296875 \r\nQ 44 46.296875 50.640625 39.5 \r\nQ 56.84375 33.015625 56.84375 23.390625 \r\nQ 56.84375 14.65625 51.515625 8.015625 \r\nQ 44.828125 -0.484375 31.734375 -0.484375 \r\nQ 14.984375 -0.484375 7.328125 12.25 \r\nL 14.65625 16.0625 \r\nQ 20.453125 6.78125 31.453125 6.78125 \r\nQ 38.53125 6.78125 43.265625 11.1875 \r\nQ 48.140625 15.828125 48.140625 23.484375 \r\nQ 48.140625 30.71875 43.84375 35.015625 \r\nQ 39.359375 39.5 32.125 39.5 \r\nQ 21.96875 39.5 16.75 31.6875 \r\nL 9.234375 32.671875 \r\nL 13.8125 72.40625 \r\nL 53.21875 72.40625 \r\nL 53.21875 64.890625 \r\nL 20.953125 64.890625 \r\nL 17.71875 40.671875 \r\nz\r\n\" id=\"IPAexGothic-35\"/>\r\n      </defs>\r\n      <g transform=\"translate(70.623081 242.630625)scale(0.1 -0.1)\">\r\n       <use xlink:href=\"#IPAexGothic-31\"/>\r\n       <use x=\"62.988281\" xlink:href=\"#IPAexGothic-32\"/>\r\n       <use x=\"125.976562\" xlink:href=\"#IPAexGothic-35\"/>\r\n      </g>\r\n     </g>\r\n    </g>\r\n    <g id=\"xtick_3\">\r\n     <g id=\"line2d_3\">\r\n      <g>\r\n       <use style=\"stroke:#000000;stroke-width:0.8;\" x=\"118.112783\" xlink:href=\"#mf94a28655e\" y=\"228.14\"/>\r\n      </g>\r\n     </g>\r\n     <g id=\"text_3\">\r\n      <!-- 150 -->\r\n      <g transform=\"translate(108.665127 242.630625)scale(0.1 -0.1)\">\r\n       <use xlink:href=\"#IPAexGothic-31\"/>\r\n       <use x=\"62.988281\" xlink:href=\"#IPAexGothic-35\"/>\r\n       <use x=\"125.976562\" xlink:href=\"#IPAexGothic-30\"/>\r\n      </g>\r\n     </g>\r\n    </g>\r\n    <g id=\"xtick_4\">\r\n     <g id=\"line2d_4\">\r\n      <g>\r\n       <use style=\"stroke:#000000;stroke-width:0.8;\" x=\"156.154829\" xlink:href=\"#mf94a28655e\" y=\"228.14\"/>\r\n      </g>\r\n     </g>\r\n     <g id=\"text_4\">\r\n      <!-- 175 -->\r\n      <defs>\r\n       <path d=\"M 56.203125 66.609375 \r\nQ 34.96875 32.90625 27.78125 0.984375 \r\nL 17.671875 0.984375 \r\nQ 24.703125 28.65625 46.09375 64.5 \r\nL 6.6875 64.5 \r\nL 6.6875 72.40625 \r\nL 56.203125 72.40625 \r\nz\r\n\" id=\"IPAexGothic-37\"/>\r\n      </defs>\r\n      <g transform=\"translate(146.707173 242.630625)scale(0.1 -0.1)\">\r\n       <use xlink:href=\"#IPAexGothic-31\"/>\r\n       <use x=\"62.988281\" xlink:href=\"#IPAexGothic-37\"/>\r\n       <use x=\"125.976562\" xlink:href=\"#IPAexGothic-35\"/>\r\n      </g>\r\n     </g>\r\n    </g>\r\n    <g id=\"xtick_5\">\r\n     <g id=\"line2d_5\">\r\n      <g>\r\n       <use style=\"stroke:#000000;stroke-width:0.8;\" x=\"194.196875\" xlink:href=\"#mf94a28655e\" y=\"228.14\"/>\r\n      </g>\r\n     </g>\r\n     <g id=\"text_5\">\r\n      <!-- 200 -->\r\n      <g transform=\"translate(184.749219 242.630625)scale(0.1 -0.1)\">\r\n       <use xlink:href=\"#IPAexGothic-32\"/>\r\n       <use x=\"62.988281\" xlink:href=\"#IPAexGothic-30\"/>\r\n       <use x=\"125.976562\" xlink:href=\"#IPAexGothic-30\"/>\r\n      </g>\r\n     </g>\r\n    </g>\r\n    <g id=\"xtick_6\">\r\n     <g id=\"line2d_6\">\r\n      <g>\r\n       <use style=\"stroke:#000000;stroke-width:0.8;\" x=\"232.238921\" xlink:href=\"#mf94a28655e\" y=\"228.14\"/>\r\n      </g>\r\n     </g>\r\n     <g id=\"text_6\">\r\n      <!-- 225 -->\r\n      <g transform=\"translate(222.791265 242.630625)scale(0.1 -0.1)\">\r\n       <use xlink:href=\"#IPAexGothic-32\"/>\r\n       <use x=\"62.988281\" xlink:href=\"#IPAexGothic-32\"/>\r\n       <use x=\"125.976562\" xlink:href=\"#IPAexGothic-35\"/>\r\n      </g>\r\n     </g>\r\n    </g>\r\n    <g id=\"xtick_7\">\r\n     <g id=\"line2d_7\">\r\n      <g>\r\n       <use style=\"stroke:#000000;stroke-width:0.8;\" x=\"270.280967\" xlink:href=\"#mf94a28655e\" y=\"228.14\"/>\r\n      </g>\r\n     </g>\r\n     <g id=\"text_7\">\r\n      <!-- 250 -->\r\n      <g transform=\"translate(260.83331 242.630625)scale(0.1 -0.1)\">\r\n       <use xlink:href=\"#IPAexGothic-32\"/>\r\n       <use x=\"62.988281\" xlink:href=\"#IPAexGothic-35\"/>\r\n       <use x=\"125.976562\" xlink:href=\"#IPAexGothic-30\"/>\r\n      </g>\r\n     </g>\r\n    </g>\r\n    <g id=\"xtick_8\">\r\n     <g id=\"line2d_8\">\r\n      <g>\r\n       <use style=\"stroke:#000000;stroke-width:0.8;\" x=\"308.323012\" xlink:href=\"#mf94a28655e\" y=\"228.14\"/>\r\n      </g>\r\n     </g>\r\n     <g id=\"text_8\">\r\n      <!-- 275 -->\r\n      <g transform=\"translate(298.875356 242.630625)scale(0.1 -0.1)\">\r\n       <use xlink:href=\"#IPAexGothic-32\"/>\r\n       <use x=\"62.988281\" xlink:href=\"#IPAexGothic-37\"/>\r\n       <use x=\"125.976562\" xlink:href=\"#IPAexGothic-35\"/>\r\n      </g>\r\n     </g>\r\n    </g>\r\n    <g id=\"xtick_9\">\r\n     <g id=\"line2d_9\">\r\n      <g>\r\n       <use style=\"stroke:#000000;stroke-width:0.8;\" x=\"346.365058\" xlink:href=\"#mf94a28655e\" y=\"228.14\"/>\r\n      </g>\r\n     </g>\r\n     <g id=\"text_9\">\r\n      <!-- 300 -->\r\n      <defs>\r\n       <path d=\"M 37.203125 37.796875 \r\nQ 54.78125 34.625 54.78125 19.96875 \r\nQ 54.78125 11.1875 48.875 5.5625 \r\nQ 42.328125 -0.484375 30.375 -0.484375 \r\nQ 12.453125 -0.484375 4.5 13.765625 \r\nL 11.8125 17.671875 \r\nQ 17.328125 6.890625 30.28125 6.890625 \r\nQ 37.890625 6.890625 42.09375 10.796875 \r\nQ 46.09375 14.5 46.09375 20.171875 \r\nQ 46.09375 26.859375 40.09375 30.90625 \r\nQ 34.625 34.578125 25.6875 34.578125 \r\nL 21.296875 34.578125 \r\nL 21.296875 41.703125 \r\nL 25.875 41.703125 \r\nQ 34.859375 41.703125 39.59375 45.125 \r\nQ 44.671875 48.734375 44.671875 54.828125 \r\nQ 44.671875 61.46875 38.96875 64.65625 \r\nQ 35.296875 66.84375 30.171875 66.84375 \r\nQ 19.34375 66.84375 14.109375 55.90625 \r\nL 6.78125 59.421875 \r\nQ 14.015625 73.828125 30.28125 73.828125 \r\nQ 40.578125 73.828125 46.96875 68.65625 \r\nQ 53.375 63.578125 53.375 55.21875 \r\nQ 53.375 47.3125 47.171875 42.28125 \r\nQ 43.171875 39.0625 37.203125 38.1875 \r\nz\r\n\" id=\"IPAexGothic-33\"/>\r\n      </defs>\r\n      <g transform=\"translate(336.917402 242.630625)scale(0.1 -0.1)\">\r\n       <use xlink:href=\"#IPAexGothic-33\"/>\r\n       <use x=\"62.988281\" xlink:href=\"#IPAexGothic-30\"/>\r\n       <use x=\"125.976562\" xlink:href=\"#IPAexGothic-30\"/>\r\n      </g>\r\n     </g>\r\n    </g>\r\n   </g>\r\n   <g id=\"matplotlib.axis_2\">\r\n    <g id=\"ytick_1\">\r\n     <g id=\"line2d_10\">\r\n      <defs>\r\n       <path d=\"M 0 0 \r\nL -3.5 0 \r\n\" id=\"ma7c34ac401\" style=\"stroke:#000000;stroke-width:0.8;\"/>\r\n      </defs>\r\n      <g>\r\n       <use style=\"stroke:#000000;stroke-width:0.8;\" x=\"26.796875\" xlink:href=\"#ma7c34ac401\" y=\"212.198843\"/>\r\n      </g>\r\n     </g>\r\n     <g id=\"text_10\">\r\n      <!-- 10 -->\r\n      <g transform=\"translate(7.2 215.944156)scale(0.1 -0.1)\">\r\n       <use xlink:href=\"#IPAexGothic-31\"/>\r\n       <use x=\"62.988281\" xlink:href=\"#IPAexGothic-30\"/>\r\n      </g>\r\n     </g>\r\n    </g>\r\n    <g id=\"ytick_2\">\r\n     <g id=\"line2d_11\">\r\n      <g>\r\n       <use style=\"stroke:#000000;stroke-width:0.8;\" x=\"26.796875\" xlink:href=\"#ma7c34ac401\" y=\"175.735398\"/>\r\n      </g>\r\n     </g>\r\n     <g id=\"text_11\">\r\n      <!-- 20 -->\r\n      <g transform=\"translate(7.2 179.480711)scale(0.1 -0.1)\">\r\n       <use xlink:href=\"#IPAexGothic-32\"/>\r\n       <use x=\"62.988281\" xlink:href=\"#IPAexGothic-30\"/>\r\n      </g>\r\n     </g>\r\n    </g>\r\n    <g id=\"ytick_3\">\r\n     <g id=\"line2d_12\">\r\n      <g>\r\n       <use style=\"stroke:#000000;stroke-width:0.8;\" x=\"26.796875\" xlink:href=\"#ma7c34ac401\" y=\"139.271954\"/>\r\n      </g>\r\n     </g>\r\n     <g id=\"text_12\">\r\n      <!-- 30 -->\r\n      <g transform=\"translate(7.2 143.017266)scale(0.1 -0.1)\">\r\n       <use xlink:href=\"#IPAexGothic-33\"/>\r\n       <use x=\"62.988281\" xlink:href=\"#IPAexGothic-30\"/>\r\n      </g>\r\n     </g>\r\n    </g>\r\n    <g id=\"ytick_4\">\r\n     <g id=\"line2d_13\">\r\n      <g>\r\n       <use style=\"stroke:#000000;stroke-width:0.8;\" x=\"26.796875\" xlink:href=\"#ma7c34ac401\" y=\"102.808509\"/>\r\n      </g>\r\n     </g>\r\n     <g id=\"text_13\">\r\n      <!-- 40 -->\r\n      <defs>\r\n       <path d=\"M 59.578125 18.109375 \r\nL 47.796875 18.109375 \r\nL 47.796875 0.984375 \r\nL 39.796875 0.984375 \r\nL 39.796875 18.109375 \r\nL 3.078125 18.109375 \r\nL 3.078125 26.125 \r\nL 38.375 73.09375 \r\nL 47.796875 73.09375 \r\nL 47.796875 25.53125 \r\nL 59.578125 25.53125 \r\nz\r\nM 40.28125 64.203125 \r\nL 39.984375 64.203125 \r\nQ 35.59375 57.125 31.296875 51.3125 \r\nL 11.859375 25.53125 \r\nL 39.796875 25.53125 \r\nL 39.796875 49.125 \r\nQ 39.796875 54.390625 40.28125 64.203125 \r\nz\r\n\" id=\"IPAexGothic-34\"/>\r\n      </defs>\r\n      <g transform=\"translate(7.2 106.553822)scale(0.1 -0.1)\">\r\n       <use xlink:href=\"#IPAexGothic-34\"/>\r\n       <use x=\"62.988281\" xlink:href=\"#IPAexGothic-30\"/>\r\n      </g>\r\n     </g>\r\n    </g>\r\n    <g id=\"ytick_5\">\r\n     <g id=\"line2d_14\">\r\n      <g>\r\n       <use style=\"stroke:#000000;stroke-width:0.8;\" x=\"26.796875\" xlink:href=\"#ma7c34ac401\" y=\"66.345065\"/>\r\n      </g>\r\n     </g>\r\n     <g id=\"text_14\">\r\n      <!-- 50 -->\r\n      <g transform=\"translate(7.2 70.090377)scale(0.1 -0.1)\">\r\n       <use xlink:href=\"#IPAexGothic-35\"/>\r\n       <use x=\"62.988281\" xlink:href=\"#IPAexGothic-30\"/>\r\n      </g>\r\n     </g>\r\n    </g>\r\n    <g id=\"ytick_6\">\r\n     <g id=\"line2d_15\">\r\n      <g>\r\n       <use style=\"stroke:#000000;stroke-width:0.8;\" x=\"26.796875\" xlink:href=\"#ma7c34ac401\" y=\"29.88162\"/>\r\n      </g>\r\n     </g>\r\n     <g id=\"text_15\">\r\n      <!-- 60 -->\r\n      <defs>\r\n       <path d=\"M 16.5 36.375 \r\nQ 23.578125 46.578125 34.90625 46.578125 \r\nQ 45.40625 46.578125 51.8125 39.265625 \r\nQ 57.421875 32.90625 57.421875 23.78125 \r\nQ 57.421875 13.8125 51.125 6.78125 \r\nQ 44.578125 -0.484375 34.03125 -0.484375 \r\nQ 21.484375 -0.484375 14.40625 9.078125 \r\nQ 7.515625 18.40625 7.515625 34.8125 \r\nQ 7.515625 53.515625 15.828125 64.203125 \r\nQ 23.34375 73.828125 35.5 73.828125 \r\nQ 49.859375 73.828125 56.390625 62.890625 \r\nL 49.21875 58.984375 \r\nQ 45.21875 66.65625 35.9375 66.65625 \r\nQ 17.484375 66.65625 16.109375 36.375 \r\nz\r\nM 33.453125 39.796875 \r\nQ 26.3125 39.796875 21.625 34.46875 \r\nQ 17.4375 29.6875 17.4375 24.078125 \r\nQ 17.4375 18.0625 21.140625 13.1875 \r\nQ 26.125 6.6875 33.734375 6.6875 \r\nQ 41.703125 6.6875 45.953125 13.1875 \r\nQ 48.828125 17.625 48.828125 23.484375 \r\nQ 48.828125 30.375 45.015625 34.8125 \r\nQ 40.625 39.796875 33.453125 39.796875 \r\nz\r\n\" id=\"IPAexGothic-36\"/>\r\n      </defs>\r\n      <g transform=\"translate(7.2 33.626933)scale(0.1 -0.1)\">\r\n       <use xlink:href=\"#IPAexGothic-36\"/>\r\n       <use x=\"62.988281\" xlink:href=\"#IPAexGothic-30\"/>\r\n      </g>\r\n     </g>\r\n    </g>\r\n   </g>\r\n   <g id=\"patch_3\">\r\n    <path d=\"M 26.796875 228.14 \r\nL 26.796875 10.7 \r\n\" style=\"fill:none;stroke:#000000;stroke-linecap:square;stroke-linejoin:miter;stroke-width:0.8;\"/>\r\n   </g>\r\n   <g id=\"patch_4\">\r\n    <path d=\"M 361.596875 228.14 \r\nL 361.596875 10.7 \r\n\" style=\"fill:none;stroke:#000000;stroke-linecap:square;stroke-linejoin:miter;stroke-width:0.8;\"/>\r\n   </g>\r\n   <g id=\"patch_5\">\r\n    <path d=\"M 26.796875 228.14 \r\nL 361.596875 228.14 \r\n\" style=\"fill:none;stroke:#000000;stroke-linecap:square;stroke-linejoin:miter;stroke-width:0.8;\"/>\r\n   </g>\r\n   <g id=\"patch_6\">\r\n    <path d=\"M 26.796875 10.7 \r\nL 361.596875 10.7 \r\n\" style=\"fill:none;stroke:#000000;stroke-linecap:square;stroke-linejoin:miter;stroke-width:0.8;\"/>\r\n   </g>\r\n  </g>\r\n </g>\r\n <defs>\r\n  <clipPath id=\"pcdb4ed3f23\">\r\n   <rect height=\"217.44\" width=\"334.8\" x=\"26.796875\" y=\"10.7\"/>\r\n  </clipPath>\r\n </defs>\r\n</svg>\r\n",
      "image/png": "[encoded data removed]"
     },
     "metadata": {}
    }
   ],
   "metadata": {},
   "execution_count": 45
  },
  {
   "cell_type": "code",
   "execution_count": null,
   "metadata": {},
   "outputs": [],
   "source": []
  },
  {
   "source": [
    "import pandas as pd\n",
    "with open(\"C:\\\\Users\\\\tyobe\\\\workspace\\\\projects\\\\theory\\\\hurwitz\\\\Hurwitz\\\\times_250.csv\",\"r\",encoding=\"utf8\") as f:\n",
    "    t=f.read().split(\"\\n\")\n",
    "data=list(map(lambda x: x.split(\",\"),t))[:-2]\n",
    "df=pd.DataFrame(data).astype(\"float\")"
   ],
   "cell_type": "code",
   "outputs": [],
   "metadata": {},
   "execution_count": 38
  }
 ]
}